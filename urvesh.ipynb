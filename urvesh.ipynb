{
 "cells": [
  {
   "cell_type": "code",
   "execution_count": 1,
   "id": "50fa2fbb-33cd-4465-a7fa-8de71f429794",
   "metadata": {},
   "outputs": [],
   "source": [
    "import numpy as np"
   ]
  },
  {
   "cell_type": "code",
   "execution_count": 2,
   "id": "e188b143-480c-4105-9b88-04b097179701",
   "metadata": {},
   "outputs": [
    {
     "name": "stdout",
     "output_type": "stream",
     "text": [
      "[[1 2 3]\n",
      " [4 5 6]]\n",
      "[[9 8 7]\n",
      " [6 5 4]]\n"
     ]
    }
   ],
   "source": [
    "a=np.array([[1,2,3],[4,5,6]])\n",
    "b=np.array([[9,8,7],[6,5,4]])\n",
    "print(a)\n",
    "print(b)"
   ]
  },
  {
   "cell_type": "code",
   "execution_count": 3,
   "id": "41f22f94-da85-44dd-aba1-706daec2d48f",
   "metadata": {},
   "outputs": [
    {
     "name": "stdout",
     "output_type": "stream",
     "text": [
      "[[1]]\n"
     ]
    }
   ],
   "source": [
    "slicedArr=a[:1,:1]\n",
    "print(slicedArr)"
   ]
  },
  {
   "cell_type": "code",
   "execution_count": 4,
   "id": "70ad3133-4a09-4f65-ba33-ca91813076d1",
   "metadata": {},
   "outputs": [
    {
     "name": "stdout",
     "output_type": "stream",
     "text": [
      "39\n"
     ]
    }
   ],
   "source": [
    "print(b.sum())"
   ]
  },
  {
   "cell_type": "code",
   "execution_count": 5,
   "id": "bb06f63f-b673-4679-a856-89bba7c855df",
   "metadata": {},
   "outputs": [
    {
     "name": "stdout",
     "output_type": "stream",
     "text": [
      "[[19 22]\n",
      " [43 50]]\n"
     ]
    }
   ],
   "source": [
    "m1=np.array([[1,2],[3,4]])\n",
    "m2=np.array([[5,6],[7,8]])\n",
    "mul=np.dot(m1,m2)\n",
    "print(mul)"
   ]
  },
  {
   "cell_type": "code",
   "execution_count": 6,
   "id": "154b4acd-e78d-4464-bbae-6fb2df3507cc",
   "metadata": {},
   "outputs": [
    {
     "name": "stdout",
     "output_type": "stream",
     "text": [
      "[[ 5 12]\n",
      " [21 32]]\n"
     ]
    }
   ],
   "source": [
    "mulM = np.multiply(m1,m2)\n",
    "print(mulM)"
   ]
  },
  {
   "cell_type": "code",
   "execution_count": 8,
   "id": "f2ae5a96-e07c-4422-a0bc-b72faef6a2cd",
   "metadata": {},
   "outputs": [
    {
     "name": "stdout",
     "output_type": "stream",
     "text": [
      "[[4 4]\n",
      " [4 4]]\n"
     ]
    }
   ],
   "source": [
    "subM=np.subtract(m2,m1)\n",
    "print(subM)"
   ]
  },
  {
   "cell_type": "markdown",
   "id": "9d5cd769-db3f-4eb4-a522-25bfc6bc1883",
   "metadata": {},
   "source": []
  },
  {
   "cell_type": "code",
   "execution_count": 9,
   "id": "ec341acc-7898-47f0-8aab-1490c76bb0c8",
   "metadata": {},
   "outputs": [
    {
     "name": "stdout",
     "output_type": "stream",
     "text": [
      "[1 2 3 4 5 6 7 8 9]\n"
     ]
    }
   ],
   "source": [
    "m3=np.array([1,2,3,4,5,6,7,8,9])\n",
    "print(m3)"
   ]
  },
  {
   "cell_type": "code",
   "execution_count": 11,
   "id": "d4526859-323a-4d12-b497-2fc3cc6d5e89",
   "metadata": {},
   "outputs": [
    {
     "name": "stdout",
     "output_type": "stream",
     "text": [
      "[[1 2 3]\n",
      " [4 5 6]\n",
      " [7 8 9]]\n"
     ]
    }
   ],
   "source": [
    "re=m3.reshape(3,3)\n",
    "print(re)"
   ]
  },
  {
   "cell_type": "code",
   "execution_count": 12,
   "id": "551779da-2c59-47ab-900b-4ccc211880eb",
   "metadata": {},
   "outputs": [
    {
     "name": "stdout",
     "output_type": "stream",
     "text": [
      "maximumin m3 is 9\n",
      "min in m3 is 1\n",
      "max in row 1 is [3 6 9]\n",
      "min in col is [1 2 3]\n"
     ]
    }
   ],
   "source": [
    "print(\"maximumin m3 is\",m3.max())\n",
    "print(\"min in m3 is\",m3.min())\n",
    "print(\"max in row 1 is\",re.max(axis=1))\n",
    "print(\"min in col is\",re.min(axis=0))"
   ]
  },
  {
   "cell_type": "code",
   "execution_count": 13,
   "id": "f27ce161-5a54-415a-a4d9-dffb9fa60678",
   "metadata": {},
   "outputs": [
    {
     "name": "stdout",
     "output_type": "stream",
     "text": [
      "[[ 4  8 25]\n",
      " [36 48 64]]\n",
      "[[2.         2.82842712 5.        ]\n",
      " [6.         6.92820323 8.        ]]\n",
      "stamdard deviation 21.200759944450628\n"
     ]
    }
   ],
   "source": [
    "m4=np.array([[4,8,25],[36,48,64]])\n",
    "print(m4)\n",
    "print(np.sqrt(m4))\n",
    "print(\"stamdard deviation\",np.std(m4))"
   ]
  },
  {
   "cell_type": "code",
   "execution_count": 14,
   "id": "747907ba-2ea4-4cce-be25-2c99f45dc33f",
   "metadata": {},
   "outputs": [
    {
     "name": "stdout",
     "output_type": "stream",
     "text": [
      "[[1 2]\n",
      " [3 4]\n",
      " [5 6]\n",
      " [7 8]]\n"
     ]
    }
   ],
   "source": [
    "v=np.vstack((m1,m2))\n",
    "print(v)"
   ]
  },
  {
   "cell_type": "code",
   "execution_count": 15,
   "id": "401b5aa4-26a4-4f6f-9da9-9f4b693d7bce",
   "metadata": {},
   "outputs": [
    {
     "name": "stdout",
     "output_type": "stream",
     "text": [
      "[[1 2 5 6]\n",
      " [3 4 7 8]]\n"
     ]
    }
   ],
   "source": [
    "h=np.hstack((m1,m2))\n",
    "print(h)"
   ]
  },
  {
   "cell_type": "code",
   "execution_count": 16,
   "id": "344d6fce-9cd0-48e0-9200-c29a533dabdc",
   "metadata": {},
   "outputs": [
    {
     "name": "stdout",
     "output_type": "stream",
     "text": [
      "[array([[1, 2],\n",
      "       [3, 4]]), array([[5, 6],\n",
      "       [7, 8]])]\n"
     ]
    }
   ],
   "source": [
    "vNew=np.vsplit(v,2)\n",
    "print(vNew)"
   ]
  },
  {
   "cell_type": "code",
   "execution_count": 17,
   "id": "9dc2b2fa-dd62-4bc0-8f0f-843c78a81df2",
   "metadata": {},
   "outputs": [
    {
     "name": "stdout",
     "output_type": "stream",
     "text": [
      "[array([[1, 2, 5, 6]]), array([[3, 4, 7, 8]])]\n"
     ]
    }
   ],
   "source": [
    "hNew=np.vsplit(h,2)\n",
    "print(hNew)"
   ]
  },
  {
   "cell_type": "code",
   "execution_count": 18,
   "id": "38fca0b5-80dd-4214-9649-547880f4e4e7",
   "metadata": {},
   "outputs": [
    {
     "name": "stdout",
     "output_type": "stream",
     "text": [
      "Sqrt:  [4.79583152 5.83095189 6.70820393 8.18535277]\n",
      "Exp:  [9.74480345e+09 5.83461743e+14 3.49342711e+19 1.25236317e+29]\n",
      "Sin:  [-0.8462204   0.52908269  0.85090352 -0.85551998]\n",
      "Cos:  [-0.53283302 -0.84857027  0.52532199 -0.5177698 ]\n",
      "Log:  [3.13549422 3.52636052 3.80666249 4.20469262]\n",
      "Sum:  169\n",
      "Std:  16.269219403523945\n"
     ]
    }
   ],
   "source": [
    "arr=np.array([23,34,45,67])\n",
    "print(\"Sqrt: \",np.sqrt(arr))#Returns the square root of each element \n",
    "print(\"Exp: \",np.exp(arr))     #Returns the exponentials of each element\n",
    "print(\"Sin: \",np.sin(arr))     #Returns the sin of each element\n",
    "print(\"Cos: \",np.cos(arr))     #Returns the cosine of each element\n",
    "print(\"Log: \",np.log(arr))     #Returns the logarithm of each element\n",
    "print(\"Sum: \",np.sum(arr))     #Returns the sum total of elements in the array\n",
    "print(\"Std: \",np.std(arr))     #Returns the standard deviation of in the array\n"
   ]
  },
  {
   "cell_type": "code",
   "execution_count": 19,
   "id": "9ceb0371-6070-4f47-b318-17b571a01095",
   "metadata": {},
   "outputs": [
    {
     "name": "stdout",
     "output_type": "stream",
     "text": [
      "random: [0.04739237 0.28029192 0.93397086 0.71623072 0.91234559 0.16251926\n",
      " 0.55041286 0.71204168 0.51855201 0.31949837 0.32576654 0.21656248\n",
      " 0.66870263 0.65608452 0.22757687 0.13822326 0.65637952 0.36655271\n",
      " 0.17508305 0.47433428]\n",
      "\n",
      "rand: [[0.71475499 0.50212367 0.69244859 0.76407144]\n",
      " [0.5991515  0.60942723 0.28236123 0.56616756]\n",
      " [0.03671017 0.98969741 0.09570159 0.36917268]]\n",
      "\n",
      "randint: [73  5 23 71 38  3 49 12 25 69 72  4 21 46 86 78 41 76 11 83]\n",
      "\n",
      "permutation: [ 4 16  7  3  2 12  1  5  0 15 18  6  8 14  9 13 17 11 10 19]\n",
      "\n"
     ]
    }
   ],
   "source": [
    "print(\"random: {}\\n\".format(np.random.random(20)));\n",
    "\n",
    "print(\"rand: {}\\n\".format(np.random.rand(3, 4)));\n",
    "\n",
    "print(\"randint: {}\\n\".format(np.random.randint(0, 100, 20)));\n",
    "\n",
    "print(\"permutation: {}\\n\".format(np.random.permutation(np.arange(20))));"
   ]
  },
  {
   "cell_type": "code",
   "execution_count": 24,
   "id": "fbda59c6-b523-42e2-9482-4d61507bf3a5",
   "metadata": {},
   "outputs": [],
   "source": [
    "a=np.array([1,2,3,4,5])\n",
    "b=np.array([2,3,4])"
   ]
  },
  {
   "cell_type": "code",
   "execution_count": 25,
   "id": "c982e394-0732-451c-9943-35c2e7e97e51",
   "metadata": {},
   "outputs": [
    {
     "name": "stdout",
     "output_type": "stream",
     "text": [
      "shape a:(5,)\n",
      "ndim 1\n",
      "size 5\n",
      "dtype int64\n",
      "itemsize 8\n",
      "data <memory at 0x00000235623A7940>\n"
     ]
    }
   ],
   "source": [
    "print(\"shape a:{}\".format(a.shape))\n",
    "print(\"ndim {}\".format(a.ndim))\n",
    "print(\"size {}\".format(a.size))\n",
    "print(f\"dtype {a.dtype}\")\n",
    "print(f\"itemsize {a.itemsize}\")\n",
    "print(f\"data {a.data}\")"
   ]
  },
  {
   "cell_type": "code",
   "execution_count": 26,
   "id": "35ad578e-d88a-460a-9c89-f04a262f5486",
   "metadata": {},
   "outputs": [],
   "source": [
    "a1=np.array([[2,3,4,5],\n",
    "             [1,4,7,6]])\n",
    "a2=np.array([[1,1,1],[1,1,1]])"
   ]
  },
  {
   "cell_type": "code",
   "execution_count": 27,
   "id": "ca608c8c-b7ef-4e2f-8262-19141892b1f1",
   "metadata": {},
   "outputs": [
    {
     "name": "stdout",
     "output_type": "stream",
     "text": [
      "[[2 3]\n",
      " [1 4]]\n",
      "[7 4]\n",
      "32\n"
     ]
    }
   ],
   "source": [
    "#add(), subtract(),mod(),reminder(),multiply(),divide(), power(),absolute()\n",
    "\n",
    "sliced_arr=a1[:2,:2]\n",
    "print(sliced_arr)\n",
    "index_arr=a1[[1,1],[2,1]]\n",
    "print(index_arr)\n",
    "print(a1.sum())"
   ]
  },
  {
   "cell_type": "code",
   "execution_count": 28,
   "id": "16584e46-1e13-47d2-b5a7-5f2a7652b1c4",
   "metadata": {},
   "outputs": [
    {
     "name": "stdout",
     "output_type": "stream",
     "text": [
      "214\n"
     ]
    }
   ],
   "source": [
    "arr=np.array([[25,64],[89,36]])\n",
    "print(arr.sum())"
   ]
  },
  {
   "cell_type": "code",
   "execution_count": 29,
   "id": "c89c4b81-e7da-4814-b516-93964678ba5f",
   "metadata": {},
   "outputs": [
    {
     "name": "stdout",
     "output_type": "stream",
     "text": [
      "[[5.         8.        ]\n",
      " [9.43398113 6.        ]]\n"
     ]
    }
   ],
   "source": [
    "print(np.sqrt(arr))"
   ]
  },
  {
   "cell_type": "code",
   "execution_count": 30,
   "id": "e20b64da-43b3-4b2c-9766-b1af088c87c6",
   "metadata": {},
   "outputs": [
    {
     "name": "stdout",
     "output_type": "stream",
     "text": [
      "[[25 89]\n",
      " [64 36]]\n"
     ]
    }
   ],
   "source": [
    "print(arr.T)"
   ]
  },
  {
   "cell_type": "code",
   "execution_count": 31,
   "id": "3f6efa8e-aada-4337-b678-de55ed83bf56",
   "metadata": {},
   "outputs": [
    {
     "name": "stdout",
     "output_type": "stream",
     "text": [
      "[[31 36]\n",
      " [55 64]]\n"
     ]
    }
   ],
   "source": [
    "b1=np.array([[2,3],[4,5]])\n",
    "b2=np.array([[5,6],[7,8]])\n",
    "matrix_multi=np.dot(b1,b2)\n",
    "print(matrix_multi)"
   ]
  },
  {
   "cell_type": "code",
   "execution_count": 32,
   "id": "cd8796f0-b57d-4162-a804-9c6e89ccf214",
   "metadata": {},
   "outputs": [
    {
     "name": "stdout",
     "output_type": "stream",
     "text": [
      "all() with axis none False\n",
      "all() with axis 0 [False  True]\n"
     ]
    }
   ],
   "source": [
    "bool=np.array([[True,True],[False,True]])\n",
    "print(\"all() with axis none\",np.all(bool))\n",
    "print(\"all() with axis 0\",np.all(bool,axis=0))#any()"
   ]
  },
  {
   "cell_type": "code",
   "execution_count": 33,
   "id": "91e403da-83a3-4df8-b195-950d9e9f2ff3",
   "metadata": {},
   "outputs": [
    {
     "name": "stdout",
     "output_type": "stream",
     "text": [
      "[0 1 2 3 4 5 6 7 8]\n",
      "[[0 1 2]\n",
      " [3 4 5]\n",
      " [6 7 8]]\n"
     ]
    }
   ],
   "source": [
    "temp=np.arange(9)\n",
    "print(temp)\n",
    "re=temp.reshape(3,3)\n",
    "print(re)"
   ]
  },
  {
   "cell_type": "code",
   "execution_count": 34,
   "id": "cac86c09-605f-4a0e-b0bf-51d4c6dd7aef",
   "metadata": {},
   "outputs": [
    {
     "name": "stdout",
     "output_type": "stream",
     "text": [
      "[[0 1]\n",
      " [3 4]\n",
      " [6 7]]\n"
     ]
    }
   ],
   "source": [
    "print(np.take(re,[0,1],axis=1))"
   ]
  },
  {
   "cell_type": "code",
   "execution_count": null,
   "id": "8ba0bffa-bd00-42b5-b3a6-f7ab63879a5f",
   "metadata": {},
   "outputs": [],
   "source": []
  }
 ],
 "metadata": {
  "kernelspec": {
   "display_name": "Python 3 (ipykernel)",
   "language": "python",
   "name": "python3"
  },
  "language_info": {
   "codemirror_mode": {
    "name": "ipython",
    "version": 3
   },
   "file_extension": ".py",
   "mimetype": "text/x-python",
   "name": "python",
   "nbconvert_exporter": "python",
   "pygments_lexer": "ipython3",
   "version": "3.13.1"
  }
 },
 "nbformat": 4,
 "nbformat_minor": 5
}
